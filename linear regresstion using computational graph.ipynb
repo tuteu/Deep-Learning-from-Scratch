{
 "cells": [
  {
   "cell_type": "code",
   "execution_count": 1,
   "id": "35fae5d5",
   "metadata": {},
   "outputs": [],
   "source": [
    "import numpy as np"
   ]
  },
  {
   "cell_type": "code",
   "execution_count": 2,
   "id": "036f0fda",
   "metadata": {},
   "outputs": [],
   "source": [
    "import matplotlib.pyplot as plt"
   ]
  },
  {
   "cell_type": "code",
   "execution_count": 3,
   "id": "9f87bd0a",
   "metadata": {},
   "outputs": [
    {
     "data": {
      "application/javascript": [
       "IPython.notebook.set_autosave_interval(0)"
      ]
     },
     "metadata": {},
     "output_type": "display_data"
    },
    {
     "name": "stdout",
     "output_type": "stream",
     "text": [
      "Autosave disabled\n"
     ]
    }
   ],
   "source": [
    "%autosave 0"
   ]
  },
  {
   "cell_type": "code",
   "execution_count": 4,
   "id": "70f42954",
   "metadata": {},
   "outputs": [],
   "source": [
    "class MulLayer:\n",
    "    def __init__(self):\n",
    "        self.x=None\n",
    "        self.y=None\n",
    "    def forward(self,x,y):\n",
    "        self.x=x\n",
    "        self.y=y\n",
    "        out=x*y\n",
    "        return out\n",
    "    def backward(self,dout):\n",
    "        dx=dout*self.y\n",
    "        dy=dout*self.x\n",
    "        return dx,dy"
   ]
  },
  {
   "cell_type": "code",
   "execution_count": 5,
   "id": "8a48d664",
   "metadata": {},
   "outputs": [],
   "source": [
    "class AddLayer:\n",
    "    def __init__(self):\n",
    "        pass\n",
    "    def forward(self,x,y):\n",
    "        out=x+y\n",
    "        return out\n",
    "    def backward(self,dout):\n",
    "        dx=dout*1\n",
    "        dy=dout*1\n",
    "        return dx,dy"
   ]
  },
  {
   "cell_type": "code",
   "execution_count": 51,
   "id": "dda5f9e3",
   "metadata": {},
   "outputs": [],
   "source": [
    "class Affine:\n",
    "    def __init__(self):\n",
    "        self.w=np.random.randn(1)\n",
    "        self.b=np.random.randn(1)\n",
    "        self.N=None\n",
    "    def forward(self,x,t):\n",
    "        x=x.reshape(-1,1)\n",
    "        self.N=x.shape[0]\n",
    "        y_pred=np.dot(x,self.w)+self.b\n",
    "        loss=1./self.N*(np.sum((y_pred-t)**2))\n",
    "        self.cache=(x,y_pred,t)\n",
    "        return loss\n",
    "    def backward(self,dout):\n",
    "        x,y_pred,t=self.cache\n",
    "        d1=dout/self.N\n",
    "        d2=np.sum(d1,axis=0)\n",
    "        d3=d1*2*(y_pred-t)\n",
    "        d4=d3\n",
    "        db=np.sum(d4,axis=0)\n",
    "        d5=d4\n",
    "        #dx=np.dot(d5,self.w.T)\n",
    "        dw=np.dot(x.T,d5)\n",
    "        return dw,db    "
   ]
  },
  {
   "cell_type": "code",
   "execution_count": 7,
   "id": "76737b25",
   "metadata": {},
   "outputs": [],
   "source": [
    "x=np.random.normal(0,1,50)"
   ]
  },
  {
   "cell_type": "code",
   "execution_count": 29,
   "id": "7004989d",
   "metadata": {},
   "outputs": [],
   "source": [
    "params=np.array([3.,4.])"
   ]
  },
  {
   "cell_type": "code",
   "execution_count": 36,
   "id": "14c4a17b",
   "metadata": {},
   "outputs": [
    {
     "data": {
      "text/plain": [
       "(50,)"
      ]
     },
     "execution_count": 36,
     "metadata": {},
     "output_type": "execute_result"
    }
   ],
   "source": [
    "y=(np.dot(x.reshape(-1,1),params[0])+params[1]).reshape(50)\n",
    "y+=np.random.normal(0,1,50)\n",
    "y.shape"
   ]
  },
  {
   "cell_type": "code",
   "execution_count": 37,
   "id": "458da9d3",
   "metadata": {},
   "outputs": [
    {
     "data": {
      "image/png": "[encoded data removed]",
      "text/plain": [
       "<Figure size 432x288 with 1 Axes>"
      ]
     },
     "metadata": {
      "needs_background": "light"
     },
     "output_type": "display_data"
    }
   ],
   "source": [
    "plt.scatter(x,y)\n",
    "plt.show()"
   ]
  },
  {
   "cell_type": "code",
   "execution_count": 52,
   "id": "280a01f5",
   "metadata": {},
   "outputs": [],
   "source": [
    "affine=Affine()"
   ]
  },
  {
   "cell_type": "code",
   "execution_count": 53,
   "id": "8a602da2",
   "metadata": {},
   "outputs": [
    {
     "data": {
      "text/plain": [
       "28.851583133556243"
      ]
     },
     "execution_count": 53,
     "metadata": {},
     "output_type": "execute_result"
    }
   ],
   "source": [
    "affine.forward(x,y)"
   ]
  },
  {
   "cell_type": "code",
   "execution_count": 55,
   "id": "0d266708",
   "metadata": {},
   "outputs": [],
   "source": [
    "dw,db=affine.backward(1)"
   ]
  },
  {
   "cell_type": "code",
   "execution_count": 63,
   "id": "87f1c7d7",
   "metadata": {},
   "outputs": [
    {
     "name": "stdout",
     "output_type": "stream",
     "text": [
      "[-6.29174354] -8.102054472912766\n"
     ]
    }
   ],
   "source": [
    "print(dw,db)"
   ]
  },
  {
   "cell_type": "code",
   "execution_count": 96,
   "id": "9ba64fe9",
   "metadata": {},
   "outputs": [
    {
     "name": "stdout",
     "output_type": "stream",
     "text": [
      "loss : 0.995023860244451\n",
      "loss : 0.9948459445077192\n",
      "loss : 0.9946732915069558\n",
      "loss : 0.9945057418720005\n",
      "loss : 0.9943431411981347\n",
      "loss : 0.9941853398862552\n",
      "loss : 0.9940321929883719\n",
      "loss : 0.993883560058249\n",
      "loss : 0.993739305007015\n",
      "loss : 0.9935992959635662\n",
      "loss : 0.9934634051396019\n",
      "loss : 0.993331508699129\n",
      "loss : 0.9932034866322876\n",
      "loss : 0.9930792226333433\n",
      "loss : 0.9929586039827087\n",
      "loss : 0.9928415214328545\n",
      "loss : 0.9927278690979751\n",
      "loss : 0.9926175443472849\n",
      "loss : 0.9925104477018182\n",
      "loss : 0.9924064827346171\n",
      "loss : 0.992305555974184\n",
      "loss : 0.9922075768111013\n",
      "loss : 0.9921124574076986\n",
      "loss : 0.9920201126106694\n",
      "loss : 0.9919304598665393\n",
      "loss : 0.9918434191398839\n",
      "loss : 0.9917589128342117\n",
      "loss : 0.9916768657154112\n",
      "loss : 0.9915972048376885\n",
      "loss : 0.9915198594719006\n",
      "loss : 0.9914447610362112\n",
      "loss : 0.9913718430289877\n",
      "loss : 0.9913010409638665\n",
      "loss : 0.9912322923069091\n",
      "loss : 0.9911655364157899\n",
      "loss : 0.9911007144809325\n",
      "loss : 0.9910377694685454\n",
      "loss : 0.9909766460654811\n",
      "loss : 0.9909172906258661\n",
      "loss : 0.9908596511194405\n",
      "loss : 0.9908036770815483\n",
      "loss : 0.9907493195647269\n",
      "loss : 0.9906965310918421\n",
      "loss : 0.9906452656107161\n",
      "loss : 0.9905954784502012\n",
      "loss : 0.9905471262776497\n",
      "loss : 0.9905001670577351\n",
      "loss : 0.9904545600125821\n",
      "loss : 0.9904102655831549\n",
      "loss : 0.9903672453918764\n",
      "loss : 0.9903254622064205\n",
      "loss : 0.9902848799046546\n",
      "loss : 0.9902454634406869\n",
      "loss : 0.9902071788119804\n",
      "loss : 0.9901699930275072\n",
      "loss : 0.990133874076901\n",
      "loss : 0.9900987909005806\n",
      "loss : 0.9900647133608081\n",
      "loss : 0.9900316122136578\n",
      "loss : 0.9899994590818594\n",
      "loss : 0.9899682264284948\n",
      "loss : 0.9899378875315112\n",
      "loss : 0.9899084164590337\n",
      "loss : 0.9898797880454463\n",
      "loss : 0.9898519778682174\n",
      "loss : 0.9898249622254478\n",
      "loss : 0.9897987181141135\n",
      "loss : 0.9897732232089859\n",
      "loss : 0.989748455842206\n",
      "loss : 0.9897243949834916\n",
      "loss : 0.9897010202209542\n",
      "loss : 0.9896783117425116\n",
      "loss : 0.9896562503178749\n",
      "loss : 0.989634817281089\n",
      "loss : 0.9896139945136121\n",
      "loss : 0.9895937644279172\n",
      "loss : 0.9895741099515978\n",
      "loss : 0.989555014511959\n",
      "loss : 0.9895364620210856\n",
      "loss : 0.9895184368613683\n",
      "loss : 0.9895009238714658\n",
      "loss : 0.9894839083327095\n",
      "loss : 0.9894673759559113\n",
      "loss : 0.9894513128685809\n",
      "loss : 0.9894357056025335\n",
      "loss : 0.9894205410818734\n",
      "loss : 0.9894058066113425\n",
      "loss : 0.9893914898650263\n",
      "loss : 0.9893775788754021\n",
      "loss : 0.9893640620227188\n",
      "loss : 0.9893509280247008\n",
      "loss : 0.9893381659265623\n",
      "loss : 0.9893257650913253\n",
      "loss : 0.9893137151904305\n",
      "loss : 0.989302006194631\n",
      "loss : 0.9892906283651636\n",
      "loss : 0.9892795722451821\n",
      "loss : 0.9892688286514557\n",
      "loss : 0.9892583886663099\n",
      "loss : 0.9892482436298156\n"
     ]
    }
   ],
   "source": [
    "for i in range(100):\n",
    "    loss=affine.forward(x,t)\n",
    "    dw,db=affine.backward(1)\n",
    "    affine.w-=0.01*dw\n",
    "    affine.b-=0.01*db\n",
    "    print('loss :',loss)"
   ]
  },
  {
   "cell_type": "code",
   "execution_count": 97,
   "id": "b132a995",
   "metadata": {},
   "outputs": [
    {
     "data": {
      "image/png": "[encoded data removed]",
      "text/plain": [
       "<Figure size 432x288 with 1 Axes>"
      ]
     },
     "metadata": {
      "needs_background": "light"
     },
     "output_type": "display_data"
    }
   ],
   "source": [
    "(x,y_pred,t)=affine.cache\n",
    "plt.scatter(x,t)\n",
    "plt.plot(x,y_pred,'r')\n",
    "plt.show()"
   ]
  },
  {
   "cell_type": "code",
   "execution_count": null,
   "id": "48216fa3",
   "metadata": {},
   "outputs": [],
   "source": []
  }
 ],
 "metadata": {
  "kernelspec": {
   "display_name": "Python 3 (ipykernel)",
   "language": "python",
   "name": "python3"
  },
  "language_info": {
   "codemirror_mode": {
    "name": "ipython",
    "version": 3
   },
   "file_extension": ".py",
   "mimetype": "text/x-python",
   "name": "python",
   "nbconvert_exporter": "python",
   "pygments_lexer": "ipython3",
   "version": "3.9.7"
  }
 },
 "nbformat": 4,
 "nbformat_minor": 5
}
