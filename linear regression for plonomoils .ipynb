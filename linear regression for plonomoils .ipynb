{
 "cells": [
  {
   "cell_type": "code",
   "execution_count": 1,
   "id": "02bda274",
   "metadata": {},
   "outputs": [
    {
     "data": {
      "application/javascript": [
       "IPython.notebook.set_autosave_interval(0)"
      ]
     },
     "metadata": {},
     "output_type": "display_data"
    },
    {
     "name": "stdout",
     "output_type": "stream",
     "text": [
      "Autosave disabled\n"
     ]
    }
   ],
   "source": [
    "%autosave 0"
   ]
  },
  {
   "cell_type": "code",
   "execution_count": 2,
   "id": "2c1dafe6",
   "metadata": {},
   "outputs": [],
   "source": [
    "import numpy as np"
   ]
  },
  {
   "cell_type": "code",
   "execution_count": 3,
   "id": "ee611b61",
   "metadata": {},
   "outputs": [],
   "source": [
    "import matplotlib.pyplot as plt"
   ]
  },
  {
   "cell_type": "code",
   "execution_count": 5,
   "id": "db98037c",
   "metadata": {},
   "outputs": [],
   "source": [
    "x=np.arange(10)\n",
    "y=np.arange(10)+x"
   ]
  },
  {
   "cell_type": "code",
   "execution_count": 7,
   "id": "e4fa6244",
   "metadata": {},
   "outputs": [],
   "source": [
    "import torch\n",
    "import torch.nn as nn"
   ]
  },
  {
   "cell_type": "code",
   "execution_count": 10,
   "id": "72340d95",
   "metadata": {},
   "outputs": [],
   "source": [
    "myLayer=nn.Linear(in_features=10,out_features=5,bias=True)"
   ]
  },
  {
   "cell_type": "code",
   "execution_count": 11,
   "id": "bbaa374c",
   "metadata": {},
   "outputs": [],
   "source": [
    "x=torch.randn(1,10)"
   ]
  },
  {
   "cell_type": "code",
   "execution_count": 12,
   "id": "a428fa6e",
   "metadata": {},
   "outputs": [
    {
     "data": {
      "text/plain": [
       "tensor([[-0.5446, -0.0822,  1.4162,  0.9394, -1.6824]],\n",
       "       grad_fn=<AddmmBackward0>)"
      ]
     },
     "execution_count": 12,
     "metadata": {},
     "output_type": "execute_result"
    }
   ],
   "source": [
    "myLayer(x)"
   ]
  },
  {
   "cell_type": "code",
   "execution_count": 14,
   "id": "d2b4e30e",
   "metadata": {},
   "outputs": [
    {
     "data": {
      "text/plain": [
       "torch.Size([5, 10])"
      ]
     },
     "execution_count": 14,
     "metadata": {},
     "output_type": "execute_result"
    }
   ],
   "source": [
    "myLayer.weight.shape"
   ]
  },
  {
   "cell_type": "code",
   "execution_count": 16,
   "id": "5683e57a",
   "metadata": {},
   "outputs": [
    {
     "data": {
      "text/plain": [
       "torch.Size([5])"
      ]
     },
     "execution_count": 16,
     "metadata": {},
     "output_type": "execute_result"
    }
   ],
   "source": [
    "myLayer.bias.shape"
   ]
  },
  {
   "cell_type": "code",
   "execution_count": 17,
   "id": "24e9537c",
   "metadata": {},
   "outputs": [],
   "source": [
    "myLayer1=nn.Linear(10,5)\n",
    "myLayer2=nn.Linear(5,2)"
   ]
  },
  {
   "cell_type": "code",
   "execution_count": 18,
   "id": "5fb84af5",
   "metadata": {},
   "outputs": [
    {
     "data": {
      "text/plain": [
       "tensor([[-0.2881, -0.2936]], grad_fn=<AddmmBackward0>)"
      ]
     },
     "execution_count": 18,
     "metadata": {},
     "output_type": "execute_result"
    }
   ],
   "source": [
    "myLayer2(myLayer1(x))"
   ]
  },
  {
   "cell_type": "code",
   "execution_count": 19,
   "id": "931e5c84",
   "metadata": {},
   "outputs": [
    {
     "data": {
      "text/plain": [
       "tensor([[-0.4508, -0.6250,  0.6648, -0.7574, -0.2344,  2.1768, -0.8960, -0.3751,\n",
       "          1.6043, -1.8580]])"
      ]
     },
     "execution_count": 19,
     "metadata": {},
     "output_type": "execute_result"
    }
   ],
   "source": [
    "x"
   ]
  },
  {
   "cell_type": "code",
   "execution_count": 278,
   "id": "78e1e746",
   "metadata": {},
   "outputs": [],
   "source": [
    "class myFirstNetwork(nn.Module):\n",
    "    def __init__(self,input_data,hidden_data,output_data):\n",
    "        super().__init__()\n",
    "        self.layer1=nn.Linear(input_data,hidden_data[0])\n",
    "        self.layer2=nn.Linear(hidden_data[0],hidden_data[1])\n",
    "        self.layer3=nn.Linear(hidden_data[1],output_data)\n",
    "        #self.relu=nn.ReLU()\n",
    "    def forward(self,x):\n",
    "        out=self.layer1(x)\n",
    "        #out=self.relu(out)\n",
    "        out=torch.sigmoid(out)\n",
    "        out=self.layer2(out)\n",
    "        out=torch.sigmoid(out)\n",
    "        out=self.layer3(out)\n",
    "        return out\n",
    "        "
   ]
  },
  {
   "cell_type": "code",
   "execution_count": 279,
   "id": "2124ac02",
   "metadata": {},
   "outputs": [],
   "source": [
    "model=myFirstNetwork(1,[10,5],1)"
   ]
  },
  {
   "cell_type": "code",
   "execution_count": 131,
   "id": "13c0b597",
   "metadata": {},
   "outputs": [],
   "source": [
    "import torch.optim as optim"
   ]
  },
  {
   "cell_type": "code",
   "execution_count": 306,
   "id": "eb465f8c",
   "metadata": {},
   "outputs": [],
   "source": [
    "optimizer=optim.SGD(model.parameters(),lr=0.01)"
   ]
  },
  {
   "cell_type": "code",
   "execution_count": 317,
   "id": "86034836",
   "metadata": {},
   "outputs": [
    {
     "name": "stdout",
     "output_type": "stream",
     "text": [
      "tensor(0.7038, grad_fn=<MseLossBackward0>)\n",
      "tensor(0.7025, grad_fn=<MseLossBackward0>)\n",
      "tensor(0.7012, grad_fn=<MseLossBackward0>)\n",
      "tensor(0.7001, grad_fn=<MseLossBackward0>)\n",
      "tensor(0.6990, grad_fn=<MseLossBackward0>)\n",
      "tensor(0.6981, grad_fn=<MseLossBackward0>)\n",
      "tensor(0.6972, grad_fn=<MseLossBackward0>)\n",
      "tensor(0.6963, grad_fn=<MseLossBackward0>)\n",
      "tensor(0.6956, grad_fn=<MseLossBackward0>)\n",
      "tensor(0.6948, grad_fn=<MseLossBackward0>)\n"
     ]
    }
   ],
   "source": [
    "loss=nn.MSELoss()\n",
    "for i in range(10000):\n",
    "    optimizer.zero_grad()\n",
    "    output=model.forward(x1.reshape(10,1))\n",
    "    loss_value=loss(output,y1.reshape(10,1))\n",
    "    loss_value.backward()\n",
    "    optimizer.step()\n",
    "    if i%1000==0:\n",
    "        \n",
    "        print(loss_value)"
   ]
  },
  {
   "cell_type": "code",
   "execution_count": 320,
   "id": "d05dd766",
   "metadata": {},
   "outputs": [
    {
     "data": {
      "image/png": "[encoded data removed]",
      "text/plain": [
       "<Figure size 432x288 with 1 Axes>"
      ]
     },
     "metadata": {
      "needs_background": "light"
     },
     "output_type": "display_data"
    }
   ],
   "source": [
    "plt.scatter(x1,y1)\n",
    "#plt.plot(x1,output.detach().numpy())\n",
    "#plt.scatter(x1,output.detach().numpy())\n",
    "plt.plot(xx,yy.detach().numpy().reshape(xx.shape))\n",
    "plt.show()"
   ]
  },
  {
   "cell_type": "code",
   "execution_count": 217,
   "id": "a8c369d4",
   "metadata": {},
   "outputs": [],
   "source": [
    "x1=torch.arange(10.)"
   ]
  },
  {
   "cell_type": "code",
   "execution_count": 244,
   "id": "825d7764",
   "metadata": {},
   "outputs": [],
   "source": [
    "y1=torch.arange(10)+torch.normal(0,3,x1.shape)"
   ]
  },
  {
   "cell_type": "code",
   "execution_count": 318,
   "id": "62db33e3",
   "metadata": {},
   "outputs": [],
   "source": [
    "xx=torch.arange(0,10,0.1)"
   ]
  },
  {
   "cell_type": "code",
   "execution_count": 319,
   "id": "93ede2de",
   "metadata": {},
   "outputs": [],
   "source": [
    "yy=model.forward(xx.reshape(-1,1))"
   ]
  },
  {
   "cell_type": "code",
   "execution_count": null,
   "id": "66530368",
   "metadata": {},
   "outputs": [],
   "source": []
  }
 ],
 "metadata": {
  "kernelspec": {
   "display_name": "Python 3 (ipykernel)",
   "language": "python",
   "name": "python3"
  },
  "language_info": {
   "codemirror_mode": {
    "name": "ipython",
    "version": 3
   },
   "file_extension": ".py",
   "mimetype": "text/x-python",
   "name": "python",
   "nbconvert_exporter": "python",
   "pygments_lexer": "ipython3",
   "version": "3.9.7"
  }
 },
 "nbformat": 4,
 "nbformat_minor": 5
}
